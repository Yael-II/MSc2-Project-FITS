{
 "cells": [
  {
   "cell_type": "markdown",
   "id": "33587ea2-ace8-464e-bd1e-c9459f4ead6a",
   "metadata": {},
   "source": [
    "```diff\n",
    "- [TLP:RED] UNDER EMBARGO UNTIL 2025-01-13!\n",
    "```"
   ]
  },
  {
   "cell_type": "markdown",
   "id": "a33fc006-2e0e-47ef-9256-2f988261ee36",
   "metadata": {},
   "source": [
    "# Fits Header Extractor: Exploration of FITS files\n",
    "\n",
    "Author: Moussouni, Yaël (MSc student; yael.moussouni@etu.unistra.fr)\\\n",
    "Institution:  Université de Strasbourg, CNRS, Observatoire astronomique\n",
    "              de Strasbourg, UMR 7550, F-67000 Strasbourg, France\\\n",
    "Date: 2025-01-12"
   ]
  },
  {
   "cell_type": "markdown",
   "id": "4ca9a0a2-9545-47db-a26a-83d6e511df15",
   "metadata": {},
   "source": [
    "## Introduction\n",
    "\n",
    "The goal of this project is to provide an example of usage for the [fits-header-extractor](https://github.com/Yael-II/Fits-Header-Extractor) library with some FITS samples. Fits are widely used file formats in astronomy. The content of a Fits file is in two parts: the header and the data. The goal of the [fits-header-extractor](https://github.com/Yael-II/Fits-Header-Extractor) Python package is to explore fits header."
   ]
  },
  {
   "cell_type": "code",
   "execution_count": null,
   "id": "9ef399ba-d109-4fdb-9263-e77c8c487b3f",
   "metadata": {},
   "outputs": [],
   "source": []
  },
  {
   "cell_type": "code",
   "execution_count": null,
   "id": "f26c5ae6-d146-4aa4-b3c3-515eacd5d1ba",
   "metadata": {},
   "outputs": [],
   "source": []
  }
 ],
 "metadata": {
  "kernelspec": {
   "display_name": "Python 3 (ipykernel)",
   "language": "python",
   "name": "python3"
  },
  "language_info": {
   "codemirror_mode": {
    "name": "ipython",
    "version": 3
   },
   "file_extension": ".py",
   "mimetype": "text/x-python",
   "name": "python",
   "nbconvert_exporter": "python",
   "pygments_lexer": "ipython3",
   "version": "3.13.1"
  }
 },
 "nbformat": 4,
 "nbformat_minor": 5
}
