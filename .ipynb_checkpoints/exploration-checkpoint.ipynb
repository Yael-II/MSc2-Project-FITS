{
 "cells": [
  {
   "cell_type": "markdown",
   "id": "a33fc006-2e0e-47ef-9256-2f988261ee36",
   "metadata": {},
   "source": [
    "# Fits Header Extractor: Exploration of FITS files\n",
    "\n",
    "Author: Moussouni, Yaël (MSc student; yael.moussouni@etu.unistra.fr)\n",
    "Institution:  Université de Strasbourg, CNRS, Observatoire astronomique\n",
    "              de Strasbourg, UMR 7550, F-67000 Strasbourg, France\n",
    "Date: 2025-01-12"
   ]
  },
  {
   "cell_type": "code",
   "execution_count": null,
   "id": "f2393a05-f787-41d5-80b8-3734b05c06d7",
   "metadata": {},
   "outputs": [],
   "source": []
  }
 ],
 "metadata": {
  "kernelspec": {
   "display_name": "Python 3 (ipykernel)",
   "language": "python",
   "name": "python3"
  },
  "language_info": {
   "codemirror_mode": {
    "name": "ipython",
    "version": 3
   },
   "file_extension": ".py",
   "mimetype": "text/x-python",
   "name": "python",
   "nbconvert_exporter": "python",
   "pygments_lexer": "ipython3",
   "version": "3.13.1"
  }
 },
 "nbformat": 4,
 "nbformat_minor": 5
}
